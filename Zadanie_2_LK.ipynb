{
  "nbformat": 4,
  "nbformat_minor": 0,
  "metadata": {
    "colab": {
      "provenance": [],
      "authorship_tag": "ABX9TyNYltIB22IU2squMjsJNscA",
      "include_colab_link": true
    },
    "kernelspec": {
      "name": "python3",
      "display_name": "Python 3"
    },
    "language_info": {
      "name": "python"
    }
  },
  "cells": [
    {
      "cell_type": "markdown",
      "metadata": {
        "id": "view-in-github",
        "colab_type": "text"
      },
      "source": [
        "<a href=\"https://colab.research.google.com/github/LigiaKaczmarek/Uczenie-Maszynowe-w-finansach/blob/main/Zadanie_2_LK.ipynb\" target=\"_parent\"><img src=\"https://colab.research.google.com/assets/colab-badge.svg\" alt=\"Open In Colab\"/></a>"
      ]
    },
    {
      "cell_type": "code",
      "execution_count": 34,
      "metadata": {
        "colab": {
          "base_uri": "https://localhost:8080/"
        },
        "id": "6VbzIfQ9BXgE",
        "outputId": "c69a14f7-9e8d-47e9-de3d-b5e8e385e641"
      },
      "outputs": [
        {
          "output_type": "stream",
          "name": "stdout",
          "text": [
            "Requirement already satisfied: scikit-surprise in /usr/local/lib/python3.10/dist-packages (1.1.3)\n",
            "Requirement already satisfied: joblib>=1.0.0 in /usr/local/lib/python3.10/dist-packages (from scikit-surprise) (1.4.0)\n",
            "Requirement already satisfied: numpy>=1.17.3 in /usr/local/lib/python3.10/dist-packages (from scikit-surprise) (1.25.2)\n",
            "Requirement already satisfied: scipy>=1.3.2 in /usr/local/lib/python3.10/dist-packages (from scikit-surprise) (1.11.4)\n"
          ]
        }
      ],
      "source": [
        "import numpy as np\n",
        "import pandas as pd\n",
        "import matplotlib.pyplot as plt\n",
        "import seaborn as sns\n",
        "!pip install scikit-surprise\n"
      ]
    },
    {
      "cell_type": "markdown",
      "source": [
        "1. Przegląd danych:"
      ],
      "metadata": {
        "id": "q47QZP_dCMb8"
      }
    },
    {
      "cell_type": "code",
      "source": [
        "ratings = pd.read_csv('https://s3-us-west-2.amazonaws.com/recommender-tutorial/ratings.csv')\n",
        "movies = pd.read_csv('https://s3-us-west-2.amazonaws.com/recommender-tutorial/movies.csv')\n",
        "movies[8210:8300]"
      ],
      "metadata": {
        "colab": {
          "base_uri": "https://localhost:8080/",
          "height": 419
        },
        "id": "6oXK__ufCOgj",
        "outputId": "85f16da3-7e51-4924-ca51-dd4d062e4fd3"
      },
      "execution_count": 35,
      "outputs": [
        {
          "output_type": "execute_result",
          "data": {
            "text/plain": [
              "      movieId                                        title  \\\n",
              "8210   103543                        Lifeguard, The (2013)   \n",
              "8211   103596                             Sharknado (2013)   \n",
              "8212   103602      Craig Ferguson: I'm Here To Help (2013)   \n",
              "8213   103606                         Stuck in Love (2012)   \n",
              "8214   103609                             Class Act (1992)   \n",
              "...       ...                                          ...   \n",
              "8295   106487       The Hunger Games: Catching Fire (2013)   \n",
              "8296   106489  Hobbit: The Desolation of Smaug, The (2013)   \n",
              "8297   106491                              47 Ronin (2013)   \n",
              "8298   106540                          Delivery Man (2013)   \n",
              "8299   106542                    Charlie Countryman (2013)   \n",
              "\n",
              "                            genres  \n",
              "8210                  Comedy|Drama  \n",
              "8211                        Sci-Fi  \n",
              "8212            Comedy|Documentary  \n",
              "8213          Comedy|Drama|Romance  \n",
              "8214                        Comedy  \n",
              "...                            ...  \n",
              "8295  Action|Adventure|Sci-Fi|IMAX  \n",
              "8296        Adventure|Fantasy|IMAX  \n",
              "8297      Action|Adventure|Fantasy  \n",
              "8298                        Comedy  \n",
              "8299         Action|Comedy|Romance  \n",
              "\n",
              "[90 rows x 3 columns]"
            ],
            "text/html": [
              "\n",
              "  <div id=\"df-35f829c9-9593-4d91-b80a-1c88c6163c88\" class=\"colab-df-container\">\n",
              "    <div>\n",
              "<style scoped>\n",
              "    .dataframe tbody tr th:only-of-type {\n",
              "        vertical-align: middle;\n",
              "    }\n",
              "\n",
              "    .dataframe tbody tr th {\n",
              "        vertical-align: top;\n",
              "    }\n",
              "\n",
              "    .dataframe thead th {\n",
              "        text-align: right;\n",
              "    }\n",
              "</style>\n",
              "<table border=\"1\" class=\"dataframe\">\n",
              "  <thead>\n",
              "    <tr style=\"text-align: right;\">\n",
              "      <th></th>\n",
              "      <th>movieId</th>\n",
              "      <th>title</th>\n",
              "      <th>genres</th>\n",
              "    </tr>\n",
              "  </thead>\n",
              "  <tbody>\n",
              "    <tr>\n",
              "      <th>8210</th>\n",
              "      <td>103543</td>\n",
              "      <td>Lifeguard, The (2013)</td>\n",
              "      <td>Comedy|Drama</td>\n",
              "    </tr>\n",
              "    <tr>\n",
              "      <th>8211</th>\n",
              "      <td>103596</td>\n",
              "      <td>Sharknado (2013)</td>\n",
              "      <td>Sci-Fi</td>\n",
              "    </tr>\n",
              "    <tr>\n",
              "      <th>8212</th>\n",
              "      <td>103602</td>\n",
              "      <td>Craig Ferguson: I'm Here To Help (2013)</td>\n",
              "      <td>Comedy|Documentary</td>\n",
              "    </tr>\n",
              "    <tr>\n",
              "      <th>8213</th>\n",
              "      <td>103606</td>\n",
              "      <td>Stuck in Love (2012)</td>\n",
              "      <td>Comedy|Drama|Romance</td>\n",
              "    </tr>\n",
              "    <tr>\n",
              "      <th>8214</th>\n",
              "      <td>103609</td>\n",
              "      <td>Class Act (1992)</td>\n",
              "      <td>Comedy</td>\n",
              "    </tr>\n",
              "    <tr>\n",
              "      <th>...</th>\n",
              "      <td>...</td>\n",
              "      <td>...</td>\n",
              "      <td>...</td>\n",
              "    </tr>\n",
              "    <tr>\n",
              "      <th>8295</th>\n",
              "      <td>106487</td>\n",
              "      <td>The Hunger Games: Catching Fire (2013)</td>\n",
              "      <td>Action|Adventure|Sci-Fi|IMAX</td>\n",
              "    </tr>\n",
              "    <tr>\n",
              "      <th>8296</th>\n",
              "      <td>106489</td>\n",
              "      <td>Hobbit: The Desolation of Smaug, The (2013)</td>\n",
              "      <td>Adventure|Fantasy|IMAX</td>\n",
              "    </tr>\n",
              "    <tr>\n",
              "      <th>8297</th>\n",
              "      <td>106491</td>\n",
              "      <td>47 Ronin (2013)</td>\n",
              "      <td>Action|Adventure|Fantasy</td>\n",
              "    </tr>\n",
              "    <tr>\n",
              "      <th>8298</th>\n",
              "      <td>106540</td>\n",
              "      <td>Delivery Man (2013)</td>\n",
              "      <td>Comedy</td>\n",
              "    </tr>\n",
              "    <tr>\n",
              "      <th>8299</th>\n",
              "      <td>106542</td>\n",
              "      <td>Charlie Countryman (2013)</td>\n",
              "      <td>Action|Comedy|Romance</td>\n",
              "    </tr>\n",
              "  </tbody>\n",
              "</table>\n",
              "<p>90 rows × 3 columns</p>\n",
              "</div>\n",
              "    <div class=\"colab-df-buttons\">\n",
              "\n",
              "  <div class=\"colab-df-container\">\n",
              "    <button class=\"colab-df-convert\" onclick=\"convertToInteractive('df-35f829c9-9593-4d91-b80a-1c88c6163c88')\"\n",
              "            title=\"Convert this dataframe to an interactive table.\"\n",
              "            style=\"display:none;\">\n",
              "\n",
              "  <svg xmlns=\"http://www.w3.org/2000/svg\" height=\"24px\" viewBox=\"0 -960 960 960\">\n",
              "    <path d=\"M120-120v-720h720v720H120Zm60-500h600v-160H180v160Zm220 220h160v-160H400v160Zm0 220h160v-160H400v160ZM180-400h160v-160H180v160Zm440 0h160v-160H620v160ZM180-180h160v-160H180v160Zm440 0h160v-160H620v160Z\"/>\n",
              "  </svg>\n",
              "    </button>\n",
              "\n",
              "  <style>\n",
              "    .colab-df-container {\n",
              "      display:flex;\n",
              "      gap: 12px;\n",
              "    }\n",
              "\n",
              "    .colab-df-convert {\n",
              "      background-color: #E8F0FE;\n",
              "      border: none;\n",
              "      border-radius: 50%;\n",
              "      cursor: pointer;\n",
              "      display: none;\n",
              "      fill: #1967D2;\n",
              "      height: 32px;\n",
              "      padding: 0 0 0 0;\n",
              "      width: 32px;\n",
              "    }\n",
              "\n",
              "    .colab-df-convert:hover {\n",
              "      background-color: #E2EBFA;\n",
              "      box-shadow: 0px 1px 2px rgba(60, 64, 67, 0.3), 0px 1px 3px 1px rgba(60, 64, 67, 0.15);\n",
              "      fill: #174EA6;\n",
              "    }\n",
              "\n",
              "    .colab-df-buttons div {\n",
              "      margin-bottom: 4px;\n",
              "    }\n",
              "\n",
              "    [theme=dark] .colab-df-convert {\n",
              "      background-color: #3B4455;\n",
              "      fill: #D2E3FC;\n",
              "    }\n",
              "\n",
              "    [theme=dark] .colab-df-convert:hover {\n",
              "      background-color: #434B5C;\n",
              "      box-shadow: 0px 1px 3px 1px rgba(0, 0, 0, 0.15);\n",
              "      filter: drop-shadow(0px 1px 2px rgba(0, 0, 0, 0.3));\n",
              "      fill: #FFFFFF;\n",
              "    }\n",
              "  </style>\n",
              "\n",
              "    <script>\n",
              "      const buttonEl =\n",
              "        document.querySelector('#df-35f829c9-9593-4d91-b80a-1c88c6163c88 button.colab-df-convert');\n",
              "      buttonEl.style.display =\n",
              "        google.colab.kernel.accessAllowed ? 'block' : 'none';\n",
              "\n",
              "      async function convertToInteractive(key) {\n",
              "        const element = document.querySelector('#df-35f829c9-9593-4d91-b80a-1c88c6163c88');\n",
              "        const dataTable =\n",
              "          await google.colab.kernel.invokeFunction('convertToInteractive',\n",
              "                                                    [key], {});\n",
              "        if (!dataTable) return;\n",
              "\n",
              "        const docLinkHtml = 'Like what you see? Visit the ' +\n",
              "          '<a target=\"_blank\" href=https://colab.research.google.com/notebooks/data_table.ipynb>data table notebook</a>'\n",
              "          + ' to learn more about interactive tables.';\n",
              "        element.innerHTML = '';\n",
              "        dataTable['output_type'] = 'display_data';\n",
              "        await google.colab.output.renderOutput(dataTable, element);\n",
              "        const docLink = document.createElement('div');\n",
              "        docLink.innerHTML = docLinkHtml;\n",
              "        element.appendChild(docLink);\n",
              "      }\n",
              "    </script>\n",
              "  </div>\n",
              "\n",
              "\n",
              "<div id=\"df-faf0be20-f7b7-4470-b205-8f9391326edf\">\n",
              "  <button class=\"colab-df-quickchart\" onclick=\"quickchart('df-faf0be20-f7b7-4470-b205-8f9391326edf')\"\n",
              "            title=\"Suggest charts\"\n",
              "            style=\"display:none;\">\n",
              "\n",
              "<svg xmlns=\"http://www.w3.org/2000/svg\" height=\"24px\"viewBox=\"0 0 24 24\"\n",
              "     width=\"24px\">\n",
              "    <g>\n",
              "        <path d=\"M19 3H5c-1.1 0-2 .9-2 2v14c0 1.1.9 2 2 2h14c1.1 0 2-.9 2-2V5c0-1.1-.9-2-2-2zM9 17H7v-7h2v7zm4 0h-2V7h2v10zm4 0h-2v-4h2v4z\"/>\n",
              "    </g>\n",
              "</svg>\n",
              "  </button>\n",
              "\n",
              "<style>\n",
              "  .colab-df-quickchart {\n",
              "      --bg-color: #E8F0FE;\n",
              "      --fill-color: #1967D2;\n",
              "      --hover-bg-color: #E2EBFA;\n",
              "      --hover-fill-color: #174EA6;\n",
              "      --disabled-fill-color: #AAA;\n",
              "      --disabled-bg-color: #DDD;\n",
              "  }\n",
              "\n",
              "  [theme=dark] .colab-df-quickchart {\n",
              "      --bg-color: #3B4455;\n",
              "      --fill-color: #D2E3FC;\n",
              "      --hover-bg-color: #434B5C;\n",
              "      --hover-fill-color: #FFFFFF;\n",
              "      --disabled-bg-color: #3B4455;\n",
              "      --disabled-fill-color: #666;\n",
              "  }\n",
              "\n",
              "  .colab-df-quickchart {\n",
              "    background-color: var(--bg-color);\n",
              "    border: none;\n",
              "    border-radius: 50%;\n",
              "    cursor: pointer;\n",
              "    display: none;\n",
              "    fill: var(--fill-color);\n",
              "    height: 32px;\n",
              "    padding: 0;\n",
              "    width: 32px;\n",
              "  }\n",
              "\n",
              "  .colab-df-quickchart:hover {\n",
              "    background-color: var(--hover-bg-color);\n",
              "    box-shadow: 0 1px 2px rgba(60, 64, 67, 0.3), 0 1px 3px 1px rgba(60, 64, 67, 0.15);\n",
              "    fill: var(--button-hover-fill-color);\n",
              "  }\n",
              "\n",
              "  .colab-df-quickchart-complete:disabled,\n",
              "  .colab-df-quickchart-complete:disabled:hover {\n",
              "    background-color: var(--disabled-bg-color);\n",
              "    fill: var(--disabled-fill-color);\n",
              "    box-shadow: none;\n",
              "  }\n",
              "\n",
              "  .colab-df-spinner {\n",
              "    border: 2px solid var(--fill-color);\n",
              "    border-color: transparent;\n",
              "    border-bottom-color: var(--fill-color);\n",
              "    animation:\n",
              "      spin 1s steps(1) infinite;\n",
              "  }\n",
              "\n",
              "  @keyframes spin {\n",
              "    0% {\n",
              "      border-color: transparent;\n",
              "      border-bottom-color: var(--fill-color);\n",
              "      border-left-color: var(--fill-color);\n",
              "    }\n",
              "    20% {\n",
              "      border-color: transparent;\n",
              "      border-left-color: var(--fill-color);\n",
              "      border-top-color: var(--fill-color);\n",
              "    }\n",
              "    30% {\n",
              "      border-color: transparent;\n",
              "      border-left-color: var(--fill-color);\n",
              "      border-top-color: var(--fill-color);\n",
              "      border-right-color: var(--fill-color);\n",
              "    }\n",
              "    40% {\n",
              "      border-color: transparent;\n",
              "      border-right-color: var(--fill-color);\n",
              "      border-top-color: var(--fill-color);\n",
              "    }\n",
              "    60% {\n",
              "      border-color: transparent;\n",
              "      border-right-color: var(--fill-color);\n",
              "    }\n",
              "    80% {\n",
              "      border-color: transparent;\n",
              "      border-right-color: var(--fill-color);\n",
              "      border-bottom-color: var(--fill-color);\n",
              "    }\n",
              "    90% {\n",
              "      border-color: transparent;\n",
              "      border-bottom-color: var(--fill-color);\n",
              "    }\n",
              "  }\n",
              "</style>\n",
              "\n",
              "  <script>\n",
              "    async function quickchart(key) {\n",
              "      const quickchartButtonEl =\n",
              "        document.querySelector('#' + key + ' button');\n",
              "      quickchartButtonEl.disabled = true;  // To prevent multiple clicks.\n",
              "      quickchartButtonEl.classList.add('colab-df-spinner');\n",
              "      try {\n",
              "        const charts = await google.colab.kernel.invokeFunction(\n",
              "            'suggestCharts', [key], {});\n",
              "      } catch (error) {\n",
              "        console.error('Error during call to suggestCharts:', error);\n",
              "      }\n",
              "      quickchartButtonEl.classList.remove('colab-df-spinner');\n",
              "      quickchartButtonEl.classList.add('colab-df-quickchart-complete');\n",
              "    }\n",
              "    (() => {\n",
              "      let quickchartButtonEl =\n",
              "        document.querySelector('#df-faf0be20-f7b7-4470-b205-8f9391326edf button');\n",
              "      quickchartButtonEl.style.display =\n",
              "        google.colab.kernel.accessAllowed ? 'block' : 'none';\n",
              "    })();\n",
              "  </script>\n",
              "</div>\n",
              "    </div>\n",
              "  </div>\n"
            ],
            "application/vnd.google.colaboratory.intrinsic+json": {
              "type": "dataframe",
              "summary": "{\n  \"name\": \"movies[8210:8300]\",\n  \"rows\": 90,\n  \"fields\": [\n    {\n      \"column\": \"movieId\",\n      \"properties\": {\n        \"dtype\": \"number\",\n        \"std\": 894,\n        \"min\": 103543,\n        \"max\": 106542,\n        \"num_unique_values\": 90,\n        \"samples\": [\n          104780,\n          104078,\n          105211\n        ],\n        \"semantic_type\": \"\",\n        \"description\": \"\"\n      }\n    },\n    {\n      \"column\": \"title\",\n      \"properties\": {\n        \"dtype\": \"string\",\n        \"num_unique_values\": 90,\n        \"samples\": [\n          \"Mystery of the Third Planet, The (Tayna tretey planety) (1981)\",\n          \"Alan Partridge: Alpha Papa (2013)\",\n          \"Enough Said (2013)\"\n        ],\n        \"semantic_type\": \"\",\n        \"description\": \"\"\n      }\n    },\n    {\n      \"column\": \"genres\",\n      \"properties\": {\n        \"dtype\": \"string\",\n        \"num_unique_values\": 56,\n        \"samples\": [\n          \"Comedy|Drama\",\n          \"Drama\",\n          \"Action|Drama|War\"\n        ],\n        \"semantic_type\": \"\",\n        \"description\": \"\"\n      }\n    }\n  ]\n}"
            }
          },
          "metadata": {},
          "execution_count": 35
        }
      ]
    },
    {
      "cell_type": "code",
      "source": [
        "movie_ratings = ratings.merge(movies, on='movieId')"
      ],
      "metadata": {
        "id": "QrFevcVfC1Cc"
      },
      "execution_count": 36,
      "outputs": []
    },
    {
      "cell_type": "markdown",
      "source": [
        "- Liczba filmów Sci-Fi:"
      ],
      "metadata": {
        "id": "7cX9kEU6CgSz"
      }
    },
    {
      "cell_type": "code",
      "source": [
        "sci_fi_movies_count = movies['genres'].str.contains('Sci-Fi').sum()\n",
        "print(f\"Liczba filmów Sci-Fi: {sci_fi_movies_count}\")\n"
      ],
      "metadata": {
        "colab": {
          "base_uri": "https://localhost:8080/"
        },
        "id": "0ndNXYi2CZGn",
        "outputId": "90e505ed-4211-4e14-e52d-e807a6525003"
      },
      "execution_count": 37,
      "outputs": [
        {
          "output_type": "stream",
          "name": "stdout",
          "text": [
            "Liczba filmów Sci-Fi: 980\n"
          ]
        }
      ]
    },
    {
      "cell_type": "markdown",
      "source": [
        "- Rozkład ocen komedii:"
      ],
      "metadata": {
        "id": "bwRLG4ERCm0k"
      }
    },
    {
      "cell_type": "code",
      "source": [
        "comedy_ratings = movie_ratings[movie_ratings['genres'].str.contains('Comedy')]\n",
        "plt.figure(figsize=(10, 6))\n",
        "sns.countplot(x='rating', data=comedy_ratings, palette='muted')\n",
        "plt.title('Rozkład ocen dla filmów z gatunkiem komedia', fontsize=14)\n",
        "plt.xlabel('Ocena')\n",
        "plt.ylabel('Liczba ocen')\n",
        "plt.show()\n"
      ],
      "metadata": {
        "colab": {
          "base_uri": "https://localhost:8080/",
          "height": 671
        },
        "id": "adx8kA1sCd4K",
        "outputId": "88457163-8565-400b-cf48-543010c9f5be"
      },
      "execution_count": 38,
      "outputs": [
        {
          "output_type": "stream",
          "name": "stderr",
          "text": [
            "<ipython-input-38-e24798ffadd6>:3: FutureWarning: \n",
            "\n",
            "Passing `palette` without assigning `hue` is deprecated and will be removed in v0.14.0. Assign the `x` variable to `hue` and set `legend=False` for the same effect.\n",
            "\n",
            "  sns.countplot(x='rating', data=comedy_ratings, palette='muted')\n"
          ]
        },
        {
          "output_type": "display_data",
          "data": {
            "text/plain": [
              "<Figure size 1000x600 with 1 Axes>"
            ],
            "image/png": "[encoded data removed]"
          },
          "metadata": {}
        }
      ]
    },
    {
      "cell_type": "markdown",
      "source": [
        "- Średnia ocen wszystkich filmów akcji oraz 3 najwyżej oceniane filmy akcji:"
      ],
      "metadata": {
        "id": "pepegQnLC7hy"
      }
    },
    {
      "cell_type": "code",
      "source": [
        "action_ratings = movie_ratings[movie_ratings['genres'].str.contains('Action')]\n",
        "mean_action_rating = action_ratings['rating'].mean()\n",
        "print(f\"Średnia ocen dla filmów z gatunkiem akcja: {mean_action_rating:.2f}\")\n",
        "\n",
        "top_action_movies = action_ratings.groupby('title')['rating'].mean().nlargest(3)\n",
        "print(\"\\nTop 3 najwyżej oceniane filmy z gatunkiem akcja:\")\n",
        "print(top_action_movies)\n"
      ],
      "metadata": {
        "colab": {
          "base_uri": "https://localhost:8080/"
        },
        "id": "P1i8aQA2C6x9",
        "outputId": "19f30dd7-89da-4403-c2f6-2813d9bc2613"
      },
      "execution_count": 39,
      "outputs": [
        {
          "output_type": "stream",
          "name": "stdout",
          "text": [
            "Średnia ocen dla filmów z gatunkiem akcja: 3.45\n",
            "\n",
            "Top 3 najwyżej oceniane filmy z gatunkiem akcja:\n",
            "title\n",
            "Alien Contamination (1980)                                         5.0\n",
            "Assignment, The (1997)                                             5.0\n",
            "Battle Royale 2: Requiem (Batoru rowaiaru II: Chinkonka) (2003)    5.0\n",
            "Name: rating, dtype: float64\n"
          ]
        }
      ]
    },
    {
      "cell_type": "markdown",
      "source": [
        "2. System rekomendacyjny:"
      ],
      "metadata": {
        "id": "8hw-zG2iDH8F"
      }
    },
    {
      "cell_type": "markdown",
      "source": [
        "- SVD:"
      ],
      "metadata": {
        "id": "5HPs4LJiDO6L"
      }
    },
    {
      "cell_type": "code",
      "source": [
        "from surprise.model_selection import GridSearchCV\n",
        "from surprise import SVD, KNNWithMeans\n",
        "from surprise import Dataset\n",
        "from surprise import Reader"
      ],
      "metadata": {
        "id": "rMHpbaiyLrCA"
      },
      "execution_count": 54,
      "outputs": []
    },
    {
      "cell_type": "code",
      "source": [
        "reader = Reader(rating_scale=(ratings['rating'].min(), ratings['rating'].max()))\n",
        "\n",
        "data = Dataset.load_from_df(ratings[['userId', 'movieId', 'rating']], reader)\n",
        "\n",
        "svd = SVD()\n",
        "\n",
        "param_grid = {'n_factors': [20, 50, 100], 'n_epochs': [10, 20, 30]}\n",
        "gs_svd = GridSearchCV(SVD, param_grid, measures=['rmse', 'mae'], cv=5)\n",
        "\n",
        "gs_svd.fit(data)\n",
        "\n",
        "best_svd_model = gs_svd.best_estimator['rmse']\n",
        "\n",
        "print(f\"Najlepszy wynik RMSE dla modelu SVD: {gs_svd.best_score['rmse']:.4f}\")\n",
        "print(f\"Najlepsze parametry dla modelu SVD: {gs_svd.best_params['rmse']}\")\n",
        "\n"
      ],
      "metadata": {
        "colab": {
          "base_uri": "https://localhost:8080/"
        },
        "id": "0pW8wBJSDSof",
        "outputId": "107f01a0-a095-43b7-f6ce-371cebf523a3"
      },
      "execution_count": 55,
      "outputs": [
        {
          "output_type": "stream",
          "name": "stdout",
          "text": [
            "Najlepszy wynik RMSE dla modelu SVD: 0.8678\n",
            "Najlepsze parametry dla modelu SVD: {'n_factors': 20, 'n_epochs': 30}\n"
          ]
        }
      ]
    },
    {
      "cell_type": "markdown",
      "source": [
        "- kNN with Means:"
      ],
      "metadata": {
        "id": "hf4L3DGGFVKm"
      }
    },
    {
      "cell_type": "code",
      "source": [
        "knn_with_means = KNNWithMeans(sim_options={'name': 'pearson', 'user_based': True})\n",
        "\n",
        "param_grid_knn = {'k': [2, 3, 4, 5, 6]}\n",
        "\n",
        "gs_knn = GridSearchCV(KNNWithMeans, param_grid_knn, measures=['rmse', 'mae'], cv=5)\n",
        "\n",
        "gs_knn.fit(data)\n",
        "\n",
        "best_knn_model = gs_knn.best_estimator['rmse']\n",
        "\n",
        "print(f\"Najlepszy wynik RMSE dla modelu kNN with Means: {gs_knn.best_score['rmse']:.4f}\")\n",
        "print(f\"Najlepsze parametry dla modelu kNN with Means: {gs_knn.best_params['rmse']}\")"
      ],
      "metadata": {
        "colab": {
          "base_uri": "https://localhost:8080/"
        },
        "id": "vIi5GgRBFYVK",
        "outputId": "ac2290ea-fdaa-4a76-aac6-ec73ea05566c"
      },
      "execution_count": 76,
      "outputs": [
        {
          "output_type": "stream",
          "name": "stdout",
          "text": [
            "Computing the msd similarity matrix...\n",
            "Done computing similarity matrix.\n",
            "Computing the msd similarity matrix...\n",
            "Done computing similarity matrix.\n",
            "Computing the msd similarity matrix...\n",
            "Done computing similarity matrix.\n",
            "Computing the msd similarity matrix...\n",
            "Done computing similarity matrix.\n",
            "Computing the msd similarity matrix...\n",
            "Done computing similarity matrix.\n",
            "Computing the msd similarity matrix...\n",
            "Done computing similarity matrix.\n",
            "Computing the msd similarity matrix...\n",
            "Done computing similarity matrix.\n",
            "Computing the msd similarity matrix...\n",
            "Done computing similarity matrix.\n",
            "Computing the msd similarity matrix...\n",
            "Done computing similarity matrix.\n",
            "Computing the msd similarity matrix...\n",
            "Done computing similarity matrix.\n",
            "Computing the msd similarity matrix...\n",
            "Done computing similarity matrix.\n",
            "Computing the msd similarity matrix...\n",
            "Done computing similarity matrix.\n",
            "Computing the msd similarity matrix...\n",
            "Done computing similarity matrix.\n",
            "Computing the msd similarity matrix...\n",
            "Done computing similarity matrix.\n",
            "Computing the msd similarity matrix...\n",
            "Done computing similarity matrix.\n",
            "Computing the msd similarity matrix...\n",
            "Done computing similarity matrix.\n",
            "Computing the msd similarity matrix...\n",
            "Done computing similarity matrix.\n",
            "Computing the msd similarity matrix...\n",
            "Done computing similarity matrix.\n",
            "Computing the msd similarity matrix...\n",
            "Done computing similarity matrix.\n",
            "Computing the msd similarity matrix...\n",
            "Done computing similarity matrix.\n",
            "Computing the msd similarity matrix...\n",
            "Done computing similarity matrix.\n",
            "Computing the msd similarity matrix...\n",
            "Done computing similarity matrix.\n",
            "Computing the msd similarity matrix...\n",
            "Done computing similarity matrix.\n",
            "Computing the msd similarity matrix...\n",
            "Done computing similarity matrix.\n",
            "Computing the msd similarity matrix...\n",
            "Done computing similarity matrix.\n",
            "Najlepszy wynik RMSE dla modelu kNN with Means: 0.9209\n",
            "Najlepsze parametry dla modelu kNN with Means: {'k': 6}\n"
          ]
        }
      ]
    },
    {
      "cell_type": "markdown",
      "source": [
        "- Czym różni się algorytm kNN with means od standardowego kNN?"
      ],
      "metadata": {
        "id": "8-JedAsIMKbl"
      }
    },
    {
      "cell_type": "markdown",
      "source": [
        "Algorytm kNN with means różni się od standardowego kNN poprzez uwzględnienie średnich ocen użytkowników i filmów. W standardowym kNN rekomendacje opierają się wyłącznie na podobieństwie ocen użytkowników. Natomiast kNN with means uwzględnia również oceny średnie, zarówno użytkowników, jak i filmów, podczas tworzenia rekomendacji. To pozwala na lepsze radzenie sobie z rzadkimi danymi i zapewnia bardziej spersonalizowane rekomendacje. Algorytm ten stosuje wygładzanie, co pomaga w sytuacjach, gdy dane są nierównomiernie rozłożone. Poprzez uwzględnienie średnich ocen, kNN with means może bardziej wiarygodnie prognozować oceny filmów dla użytkowników. Jego celem jest zapewnienie bardziej trafnych rekomendacji poprzez uwzględnienie większej ilości informacji o preferencjach użytkowników i cechach filmów. W rezultacie kNN with means może dostarczać lepsze rekomendacje, szczególnie w przypadku, gdy dane są rzadkie lub występuje duża zróżnicowana liczba ocen między użytkownikami i filmami."
      ],
      "metadata": {
        "id": "VLeDinIeMFFY"
      }
    },
    {
      "cell_type": "markdown",
      "source": [
        "3. Rekomendacje po obejrzeniu filmu:"
      ],
      "metadata": {
        "id": "YFkBsYBWIPai"
      }
    },
    {
      "cell_type": "markdown",
      "source": [
        "- Jumanji:"
      ],
      "metadata": {
        "id": "cc04IoWmIaj5"
      }
    },
    {
      "cell_type": "code",
      "source": [
        "print(movies[movies['title'].str.contains('Jumanji')])"
      ],
      "metadata": {
        "colab": {
          "base_uri": "https://localhost:8080/"
        },
        "id": "8qjA2ly8UmDh",
        "outputId": "9a2db66e-fd6f-4685-b71b-9d55dd9a2151"
      },
      "execution_count": 88,
      "outputs": [
        {
          "output_type": "stream",
          "name": "stdout",
          "text": [
            "      movieId                                  title  \\\n",
            "1           2                         Jumanji (1995)   \n",
            "9636   179401  Jumanji: Welcome to the Jungle (2017)   \n",
            "\n",
            "                          genres  \n",
            "1     Adventure|Children|Fantasy  \n",
            "9636   Action|Adventure|Children  \n"
          ]
        }
      ]
    },
    {
      "cell_type": "code",
      "source": [
        "movie_id_jumanji = movies[movies['title'] == 'Jumanji (1995)']['movieId'].iloc[0]\n",
        "similar_movies_jumanji = knn_with_means.get_neighbors(movie_id_jumanji, k=5)\n",
        "\n",
        "print(\"Rekomendowane filmy po obejrzeniu 'Jumanji':\")\n",
        "for movie_id in similar_movies_jumanji:\n",
        "    if movie_id in movies['movieId'].values:\n",
        "        print(movies[movies['movieId'] == movie_id]['title'].iloc[0])\n",
        "    else:\n",
        "        print(f\"Film o identyfikatorze {movie_id} nie istnieje w zbiorze danych.\")\n",
        "\n"
      ],
      "metadata": {
        "colab": {
          "base_uri": "https://localhost:8080/"
        },
        "id": "m1qf0HFBKL32",
        "outputId": "2579da53-b7e3-44b2-dc54-33517f18827b"
      },
      "execution_count": 89,
      "outputs": [
        {
          "output_type": "stream",
          "name": "stdout",
          "text": [
            "Rekomendowane filmy po obejrzeniu 'Jumanji':\n",
            "Beautiful Girls (1996)\n",
            "Film o identyfikatorze 182 nie istnieje w zbiorze danych.\n",
            "Film o identyfikatorze 90 nie istnieje w zbiorze danych.\n",
            "It Could Happen to You (1994)\n",
            "Ruby in Paradise (1993)\n"
          ]
        }
      ]
    },
    {
      "cell_type": "markdown",
      "source": [
        "- Flint:"
      ],
      "metadata": {
        "id": "uDZysSG5KaJM"
      }
    },
    {
      "cell_type": "code",
      "source": [
        "print(movies[movies['title'].str.contains('Flint')])\n"
      ],
      "metadata": {
        "colab": {
          "base_uri": "https://localhost:8080/"
        },
        "id": "9XeiuqT-Kdqu",
        "outputId": "daafa98b-ed69-4521-c0d2-03e771596b26"
      },
      "execution_count": 90,
      "outputs": [
        {
          "output_type": "stream",
          "name": "stdout",
          "text": [
            "      movieId                                       title  \\\n",
            "313       355                     Flintstones, The (1994)   \n",
            "2662     3564  Flintstones in Viva Rock Vegas, The (2000)   \n",
            "3909     5493                        In Like Flint (1967)   \n",
            "3910     5497                        Our Man Flint (1965)   \n",
            "8717   126088        A Flintstones Christmas Carol (1994)   \n",
            "9739   193585                                Flint (2017)   \n",
            "\n",
            "                         genres  \n",
            "313     Children|Comedy|Fantasy  \n",
            "2662            Children|Comedy  \n",
            "3909    Action|Adventure|Comedy  \n",
            "3910    Adventure|Comedy|Sci-Fi  \n",
            "8717  Animation|Children|Comedy  \n",
            "9739                      Drama  \n"
          ]
        }
      ]
    },
    {
      "cell_type": "code",
      "source": [
        "flint_movies = movies[movies['title'].str.contains('Flint')]\n",
        "if len(flint_movies) == 0:\n",
        "    print(\"Film 'Flint (2017)' nie został znaleziony.\")\n",
        "else:\n",
        "    flint_movie_id = flint_movies['movieId'].values[0]\n",
        "    if flint_movie_id in movie_mapper:\n",
        "        similar_movies_flint = find_similar_movies(flint_movie_id, X, k=5, movie_mapper=movie_mapper, movie_inv_mapper=movie_inv_mapper)\n",
        "\n",
        "        if len(similar_movies_flint) > 0:\n",
        "            print(\"Rekomendowane filmy po obejrzeniu 'Flint (2017)':\")\n",
        "            for movie_id in similar_movies_flint:\n",
        "                print(movies[movies['movieId'] == movie_id]['title'].iloc[0])\n",
        "        else:\n",
        "            print(\"Nie znaleziono rekomendacji dla filmu 'Flint (2017)'.\")\n",
        "    else:\n",
        "        print(\"Film 'Flint (2017)' nie został znaleziony w zestawie danych ocen.\")\n"
      ],
      "metadata": {
        "colab": {
          "base_uri": "https://localhost:8080/"
        },
        "id": "PgNY1gzwUF0B",
        "outputId": "9c482869-b4e7-4a49-f7e4-53c6c310ca12"
      },
      "execution_count": 87,
      "outputs": [
        {
          "output_type": "stream",
          "name": "stdout",
          "text": [
            "Rekomendowane filmy po obejrzeniu 'Flint (2017)':\n",
            "Birdcage, The (1996)\n",
            "Operation Dumbo Drop (1995)\n",
            "Sgt. Bilko (1996)\n",
            "Arrival, The (1996)\n",
            "Richard III (1995)\n"
          ]
        }
      ]
    }
  ]
}